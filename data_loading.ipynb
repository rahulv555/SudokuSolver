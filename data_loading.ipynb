{
 "cells": [
  {
   "cell_type": "code",
   "execution_count": 2,
   "metadata": {},
   "outputs": [],
   "source": [
    "import cv2\n",
    "import pandas\n",
    "import numpy as np"
   ]
  },
  {
   "cell_type": "code",
   "execution_count": 12,
   "metadata": {},
   "outputs": [],
   "source": [
    "#READING IMAGE\n",
    "img = cv2.imread('images/image1004.jpg', cv2.IMREAD_GRAYSCALE)\n",
    "img = cv2.resize(img, (640, 640))"
   ]
  },
  {
   "cell_type": "code",
   "execution_count": 16,
   "metadata": {},
   "outputs": [
    {
     "data": {
      "text/plain": [
       "-1"
      ]
     },
     "execution_count": 16,
     "metadata": {},
     "output_type": "execute_result"
    }
   ],
   "source": [
    "#PREPROCESSING\n",
    "proc = cv2.GaussianBlur(img.copy(), (9, 9), 0)\n",
    "proc = cv2.adaptiveThreshold(proc, 255, cv2.ADAPTIVE_THRESH_GAUSSIAN_C, cv2.THRESH_BINARY, 11, 2)\n",
    "\n",
    "proc = cv2.bitwise_not(proc, proc)  \n",
    "kernel = np.array([[0., 1., 0.], [1., 1., 1.], [0., 1., 0.]],np.uint8)\n",
    "proc = cv2.dilate(proc, kernel)\n",
    "cv2.imshow('lol', proc)\n",
    "cv2.waitKey(0)"
   ]
  },
  {
   "cell_type": "code",
   "execution_count": 30,
   "metadata": {},
   "outputs": [
    {
     "name": "stdout",
     "output_type": "stream",
     "text": [
      "[array([ 58, 179], dtype=int32), array([584, 184], dtype=int32), array([591, 577], dtype=int32), array([ 47, 587], dtype=int32)]\n"
     ]
    }
   ],
   "source": [
    "#FINDING LARGEST POLYGON\n",
    "import operator\n",
    "\n",
    "#FINDING ALL CONTOURS, SORTING IN DESCENDING ORDER OF AREA\n",
    "contours, h = cv2.findContours(proc.copy(), cv2.RETR_EXTERNAL, cv2.CHAIN_APPROX_SIMPLE)\n",
    "contours = sorted(contours, key=cv2.contourArea, reverse=True)\n",
    "polygon = contours[0]\n",
    "\n",
    "#GETTING THE POINTS\n",
    "bottom_right, _ = max(enumerate([pt[0][0] + pt[0][1] for pt in\n",
    "                      polygon]), key=operator.itemgetter(1))\n",
    "top_left, _ = min(enumerate([pt[0][0] + pt[0][1] for pt in\n",
    "                  polygon]), key=operator.itemgetter(1))\n",
    "bottom_left, _ = min(enumerate([pt[0][0] - pt[0][1] for pt in\n",
    "                     polygon]), key=operator.itemgetter(1))\n",
    "top_right, _ = max(enumerate([pt[0][0] - pt[0][1] for pt in\n",
    "                   polygon]), key=operator.itemgetter(1))\n",
    "\n",
    "crop_rect = [polygon[top_left][0], polygon[top_right][0], polygon[bottom_right][0], polygon[bottom_left][0]]\n",
    "print(crop_rect)"
   ]
  },
  {
   "cell_type": "code",
   "execution_count": 31,
   "metadata": {},
   "outputs": [],
   "source": [
    "def distance_between(p1, p2): \n",
    "    a = p2[0] - p1[0] \n",
    "    b = p2[1] - p1[1] \n",
    "    return np.sqrt((a ** 2) + (b ** 2))"
   ]
  },
  {
   "cell_type": "code",
   "execution_count": 32,
   "metadata": {},
   "outputs": [],
   "source": [
    "top_left, top_right, bottom_right, bottom_left = crop_rect[0], crop_rect[1], crop_rect[2], crop_rect[3]\n",
    "src = np.array([top_left, top_right, bottom_right, bottom_left], dtype='float32') \n",
    "side = max([  distance_between(bottom_right, top_right), \n",
    "            distance_between(top_left, bottom_left),\n",
    "            distance_between(bottom_right, bottom_left),   \n",
    "            distance_between(top_left, top_right) ])"
   ]
  },
  {
   "cell_type": "code",
   "execution_count": 34,
   "metadata": {},
   "outputs": [
    {
     "data": {
      "text/plain": [
       "-1"
      ]
     },
     "execution_count": 34,
     "metadata": {},
     "output_type": "execute_result"
    }
   ],
   "source": [
    "dst = np.array([[0, 0], [side - 1, 0], [side - 1, side - 1], [0, side - 1]], dtype='float32')\n",
    "m = cv2.getPerspectiveTransform(src, dst)\n",
    "cv2.warpPerspective(proc, m, (int(side), int(side)))\n",
    "cv2.imshow('lol', proc)\n",
    "cv2.waitKey(0)"
   ]
  },
  {
   "cell_type": "code",
   "execution_count": null,
   "metadata": {},
   "outputs": [],
   "source": []
  }
 ],
 "metadata": {
  "kernelspec": {
   "display_name": "sudoku",
   "language": "python",
   "name": "python3"
  },
  "language_info": {
   "codemirror_mode": {
    "name": "ipython",
    "version": 3
   },
   "file_extension": ".py",
   "mimetype": "text/x-python",
   "name": "python",
   "nbconvert_exporter": "python",
   "pygments_lexer": "ipython3",
   "version": "3.9.17"
  },
  "orig_nbformat": 4
 },
 "nbformat": 4,
 "nbformat_minor": 2
}
